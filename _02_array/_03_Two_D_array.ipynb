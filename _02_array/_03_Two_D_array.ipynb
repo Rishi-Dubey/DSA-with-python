{
 "cells": [
  {
   "cell_type": "markdown",
   "metadata": {},
   "source": [
    "# 1) Create an 2D Array with numpy"
   ]
  },
  {
   "cell_type": "code",
   "execution_count": 1,
   "metadata": {},
   "outputs": [
    {
     "name": "stdout",
     "output_type": "stream",
     "text": [
      "[[1 2 3]\n",
      " [4 5 6]\n",
      " [7 8 9]]\n",
      "<class 'numpy.ndarray'>\n"
     ]
    }
   ],
   "source": [
    "import numpy as np\n",
    "\n",
    "alist: list = [[1, 2, 3], [4, 5, 6], [7, 8, 9]]\n",
    "\n",
    "# Converting it into numpy matrix type\n",
    "array_2D = np.array(alist)\n",
    "\n",
    "print(array_2D)\n",
    "print(type(array_2D))"
   ]
  },
  {
   "cell_type": "markdown",
   "metadata": {},
   "source": [
    "# 2) Inserting an element(1D array) in 2D array"
   ]
  },
  {
   "cell_type": "code",
   "execution_count": null,
   "metadata": {},
   "outputs": [],
   "source": [
    "# only 1D array or list can be inserted in 2D array or matrix\n",
    "# need insert(Array_name, position(row position or col position),[1D array], [axis(0 for row, 1 for col)])\n",
    "new_2D_array = np.insert(array_2D, 0, [10, 20, 30], axis=1)\n",
    "\n",
    "print(new_2D_array)\n",
    "new_2D_array.shape\n",
    "\n",
    "# using append(like insert it return an \"new array\" change not occur in parameter array)\n",
    "# parameters = (array(in which to add), (1D array), axis)\n",
    "new_2D_array = np.append(array_2D, [[10, 11, 12]], axis=0)\n",
    "print(array_2D)\n",
    "print(new_2D_array)"
   ]
  },
  {
   "cell_type": "markdown",
   "metadata": {},
   "source": [
    "# 3) Accessing value of 2D array"
   ]
  },
  {
   "cell_type": "code",
   "execution_count": null,
   "metadata": {},
   "outputs": [],
   "source": [
    "print(array_2D)\n",
    "print(array_2D[1, 2])\n",
    "\n",
    "\n",
    "def accessing_2D(array, row, col):\n",
    "    if (row >= len(array) and col >= len(array[0])):\n",
    "        raise ValueError(\"Out of Range Index\")\n",
    "    else:\n",
    "        print(f\"Value at array[{row}][{col}] = {array[row][col]}\")\n",
    "\n",
    "\n",
    "accessing_2D(array_2D, 1, 2)"
   ]
  },
  {
   "cell_type": "markdown",
   "metadata": {},
   "source": [
    "# 4) Search in 2D Array"
   ]
  },
  {
   "cell_type": "code",
   "execution_count": null,
   "metadata": {},
   "outputs": [],
   "source": [
    "print(array_2D)\n",
    "\n",
    "def search(array, item : int):\n",
    "    for row in range(len(array)):\n",
    "        for col in range(len(array[0])):\n",
    "            if array[row][col] == item:\n",
    "                return f\"Found at row {row}, col {col}\"\n",
    "    \n",
    "    return \"Not found\"\n",
    "\n",
    "result = search(array_2D, 10)\n",
    "print(\"Result : \",result)"
   ]
  },
  {
   "cell_type": "markdown",
   "metadata": {},
   "source": [
    "# 5) Delete from the 2D array"
   ]
  },
  {
   "cell_type": "code",
   "execution_count": 40,
   "metadata": {},
   "outputs": [
    {
     "name": "stdout",
     "output_type": "stream",
     "text": [
      "[[1 2 3]\n",
      " [4 5 6]\n",
      " [7 8 9]]\n",
      "[[1 2 3]\n",
      " [7 8 9]]\n"
     ]
    }
   ],
   "source": [
    "print(array_2D)\n",
    "\n",
    "my_array = np.delete(array_2D, 1, axis=0)\n",
    "print(my_array)"
   ]
  }
 ],
 "metadata": {
  "kernelspec": {
   "display_name": "Python 3",
   "language": "python",
   "name": "python3"
  },
  "language_info": {
   "codemirror_mode": {
    "name": "ipython",
    "version": 3
   },
   "file_extension": ".py",
   "mimetype": "text/x-python",
   "name": "python",
   "nbconvert_exporter": "python",
   "pygments_lexer": "ipython3",
   "version": "3.11.5"
  }
 },
 "nbformat": 4,
 "nbformat_minor": 2
}
